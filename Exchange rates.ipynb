{
 "cells": [
  {
   "cell_type": "markdown",
   "id": "6d8a2abf",
   "metadata": {},
   "source": [
    "# Introduction\n",
    "Exchange rate has a big inpact on country economy as the slight change in currency rate can affect the economy in a lot ot ways. The rate of a currency changes drastically in every country over time . This notebook contain my analysis on the exchange rate data till date acquired through an api request. The api used is the exchange rate api on **apilayer**.\n",
    "\n",
    "\n",
    "### Contents\n",
    "- [Importing Libraries](#Importing-Libraries)\n",
    "- [Api Request](#Making-api-request)\n",
    "- [Importing data into a dataframe](#Importing-data-into-dataframe)\n",
    "- [Data Cleaning](#Data-Cleaning)\n",
    "- [Analysis & Visualization](#Analysis-and-Visualization)\n",
    "- [Conclusion](#Conclusion)\n",
    "\n",
    "\n",
    "\n",
    "### Variables definition\n",
    "- url - api url\n",
    "- headers - a dictionary that contain the api key\n",
    "- response - api request respone\n",
    "- result_data - acquired data from the api\n",
    "- data - indicate the result_data in json format\n",
    "- rates_data - exchange rates data for all the currencies for all the days\n",
    "- df - dataframe\n",
    "- arr - numpy array\n",
    "- rate_values - all the rates value as numpy array\n",
    "- min loc - location of the lowest rate\n",
    "- ser2 - dataframe that contain lowest rates for each currecny\n",
    "- index_min - index of the lowest rate\n",
    "- fig - matplotlib pyplot figure\n",
    "- a - often represent matplotlib pyplot figure axes but also used at times in iteration\n",
    "- wa_currencies - dictionary of currenciesand the name of the top 3 countries in africa by gdp capital \n",
    "- wa_rates - rate of wa_currencies\n",
    "- month_list - list that contains 3 letters for each month in the dataframe\n",
    "- ngn_df - dataframe for ngn rates\n",
    "- ngn_df2 - ngn_df grouped by month name with the mean of the rates\n"
   ]
  },
  {
   "cell_type": "markdown",
   "id": "1744efb7",
   "metadata": {},
   "source": [
    "# Importing Libraries"
   ]
  },
  {
   "cell_type": "code",
   "execution_count": 1,
   "id": "3de8ad89",
   "metadata": {},
   "outputs": [],
   "source": [
    "import requests as req #python library to make api request\n",
    "import json #to parse api data in json format\n",
    "import pandas as pd #data analysis\n",
    "import matplotlib.pyplot as plt #visualization\n",
    "import seaborn as sns \n",
    "import numpy as np #to work with array\n",
    "from datetime import datetime\n",
    "%matplotlib inline"
   ]
  },
  {
   "cell_type": "markdown",
   "id": "9c25f429",
   "metadata": {},
   "source": [
    "# Making api request"
   ]
  },
  {
   "cell_type": "code",
   "execution_count": 3,
   "id": "79e60228",
   "metadata": {},
   "outputs": [],
   "source": [
    "'''\n",
    "make an api url requests with queries,start_date as 2022-01-01,end_date as today and\n",
    "base currency(currency which other currencies will be based on)\n",
    "as USD\n",
    "'''\n",
    "url = \"https://api.apilayer.com/exchangerates_data/timeseries?start_date=2022-01-01&end_date=2022-10-05&base=USD\"\n",
    "#input api key\n",
    "headers= {\n",
    "  \"apikey\": \"api-key\"\n",
    "}\n",
    "\n",
    "response = req.get(url, headers=headers)\n",
    "\n",
    "status_code = response.status_code #check the status code\n",
    "result_data = response.text\n"
   ]
  },
  {
   "cell_type": "code",
   "execution_count": 4,
   "id": "f7599c81",
   "metadata": {},
   "outputs": [
    {
     "data": {
      "text/plain": [
       "200"
      ]
     },
     "execution_count": 4,
     "metadata": {},
     "output_type": "execute_result"
    }
   ],
   "source": [
    "status_code"
   ]
  },
  {
   "cell_type": "code",
   "execution_count": 5,
   "id": "690a219f",
   "metadata": {},
   "outputs": [],
   "source": [
    "data = json.loads(result_data) #load the data in json format"
   ]
  },
  {
   "cell_type": "code",
   "execution_count": 6,
   "id": "f0cae93f",
   "metadata": {},
   "outputs": [
    {
     "data": {
      "text/plain": [
       "dict_keys(['success', 'timeseries', 'start_date', 'end_date', 'base', 'rates'])"
      ]
     },
     "execution_count": 6,
     "metadata": {},
     "output_type": "execute_result"
    }
   ],
   "source": [
    "data.keys() #the keys"
   ]
  },
  {
   "cell_type": "code",
   "execution_count": 8,
   "id": "473ac6b2",
   "metadata": {},
   "outputs": [
    {
     "data": {
      "text/plain": [
       "True"
      ]
     },
     "execution_count": 8,
     "metadata": {},
     "output_type": "execute_result"
    }
   ],
   "source": [
    "data['success']"
   ]
  },
  {
   "cell_type": "code",
   "execution_count": 9,
   "id": "57052307",
   "metadata": {},
   "outputs": [
    {
     "data": {
      "text/plain": [
       "True"
      ]
     },
     "execution_count": 9,
     "metadata": {},
     "output_type": "execute_result"
    }
   ],
   "source": [
    "data['timeseries']"
   ]
  },
  {
   "cell_type": "code",
   "execution_count": 10,
   "id": "325cd37e",
   "metadata": {},
   "outputs": [
    {
     "data": {
      "text/plain": [
       "'2022-01-01'"
      ]
     },
     "execution_count": 10,
     "metadata": {},
     "output_type": "execute_result"
    }
   ],
   "source": [
    "data['start_date']"
   ]
  },
  {
   "cell_type": "code",
   "execution_count": 11,
   "id": "3cc8034d",
   "metadata": {},
   "outputs": [
    {
     "data": {
      "text/plain": [
       "'2022-10-05'"
      ]
     },
     "execution_count": 11,
     "metadata": {},
     "output_type": "execute_result"
    }
   ],
   "source": [
    "data['end_date']"
   ]
  },
  {
   "cell_type": "code",
   "execution_count": 12,
   "id": "09c9b85e",
   "metadata": {},
   "outputs": [
    {
     "data": {
      "text/plain": [
       "'USD'"
      ]
     },
     "execution_count": 12,
     "metadata": {},
     "output_type": "execute_result"
    }
   ],
   "source": [
    "data['base']"
   ]
  },
  {
   "cell_type": "code",
   "execution_count": 13,
   "id": "f6edceed",
   "metadata": {},
   "outputs": [],
   "source": [
    "#rates contain the rate of all the currencies for each day\n",
    "rate_data = data['rates']"
   ]
  },
  {
   "cell_type": "markdown",
   "id": "8cc28213",
   "metadata": {},
   "source": [
    "# Importing data into dataframe"
   ]
  },
  {
   "cell_type": "code",
   "execution_count": 20,
   "id": "87b3a8d6",
   "metadata": {},
   "outputs": [],
   "source": [
    "rates = list()\n",
    "for dates in rate_data.keys():\n",
    "    daily = rate_data[dates]\n",
    "    df = pd.DataFrame(daily,index=[dates])\n",
    "    rates.append(df)"
   ]
  },
  {
   "cell_type": "code",
   "execution_count": 21,
   "id": "c0252e51",
   "metadata": {},
   "outputs": [],
   "source": [
    "#concat all the data\n",
    "df = pd.concat(rates)"
   ]
  },
  {
   "cell_type": "code",
   "execution_count": 22,
   "id": "d9cf9245",
   "metadata": {},
   "outputs": [
    {
     "data": {
      "text/html": [
       "<div>\n",
       "<style scoped>\n",
       "    .dataframe tbody tr th:only-of-type {\n",
       "        vertical-align: middle;\n",
       "    }\n",
       "\n",
       "    .dataframe tbody tr th {\n",
       "        vertical-align: top;\n",
       "    }\n",
       "\n",
       "    .dataframe thead th {\n",
       "        text-align: right;\n",
       "    }\n",
       "</style>\n",
       "<table border=\"1\" class=\"dataframe\">\n",
       "  <thead>\n",
       "    <tr style=\"text-align: right;\">\n",
       "      <th></th>\n",
       "      <th>AED</th>\n",
       "      <th>AFN</th>\n",
       "      <th>ALL</th>\n",
       "      <th>AMD</th>\n",
       "      <th>ANG</th>\n",
       "      <th>AOA</th>\n",
       "      <th>ARS</th>\n",
       "      <th>AUD</th>\n",
       "      <th>AWG</th>\n",
       "      <th>AZN</th>\n",
       "      <th>...</th>\n",
       "      <th>XAU</th>\n",
       "      <th>XCD</th>\n",
       "      <th>XDR</th>\n",
       "      <th>XOF</th>\n",
       "      <th>XPF</th>\n",
       "      <th>YER</th>\n",
       "      <th>ZAR</th>\n",
       "      <th>ZMK</th>\n",
       "      <th>ZMW</th>\n",
       "      <th>ZWL</th>\n",
       "    </tr>\n",
       "  </thead>\n",
       "  <tbody>\n",
       "    <tr>\n",
       "      <th>2022-01-01</th>\n",
       "      <td>3.673042</td>\n",
       "      <td>103.750404</td>\n",
       "      <td>106.650403</td>\n",
       "      <td>480.234325</td>\n",
       "      <td>1.802591</td>\n",
       "      <td>550.590403</td>\n",
       "      <td>102.689974</td>\n",
       "      <td>1.375800</td>\n",
       "      <td>1.8000</td>\n",
       "      <td>1.703970</td>\n",
       "      <td>...</td>\n",
       "      <td>0.000547</td>\n",
       "      <td>2.70255</td>\n",
       "      <td>0.714652</td>\n",
       "      <td>579.503602</td>\n",
       "      <td>105.850364</td>\n",
       "      <td>250.250364</td>\n",
       "      <td>15.951045</td>\n",
       "      <td>9001.203593</td>\n",
       "      <td>16.663427</td>\n",
       "      <td>321.999592</td>\n",
       "    </tr>\n",
       "    <tr>\n",
       "      <th>2022-01-02</th>\n",
       "      <td>3.672980</td>\n",
       "      <td>103.749983</td>\n",
       "      <td>106.650326</td>\n",
       "      <td>480.234325</td>\n",
       "      <td>1.802591</td>\n",
       "      <td>550.590435</td>\n",
       "      <td>102.664691</td>\n",
       "      <td>1.376179</td>\n",
       "      <td>1.8000</td>\n",
       "      <td>1.698647</td>\n",
       "      <td>...</td>\n",
       "      <td>0.000547</td>\n",
       "      <td>2.70255</td>\n",
       "      <td>0.714652</td>\n",
       "      <td>579.499504</td>\n",
       "      <td>105.850128</td>\n",
       "      <td>250.249584</td>\n",
       "      <td>15.964896</td>\n",
       "      <td>9001.202654</td>\n",
       "      <td>16.663427</td>\n",
       "      <td>321.999592</td>\n",
       "    </tr>\n",
       "    <tr>\n",
       "      <th>2022-01-03</th>\n",
       "      <td>3.673103</td>\n",
       "      <td>103.750299</td>\n",
       "      <td>106.249880</td>\n",
       "      <td>481.590005</td>\n",
       "      <td>1.802973</td>\n",
       "      <td>554.203977</td>\n",
       "      <td>102.958502</td>\n",
       "      <td>1.389502</td>\n",
       "      <td>1.8005</td>\n",
       "      <td>1.701522</td>\n",
       "      <td>...</td>\n",
       "      <td>0.000554</td>\n",
       "      <td>2.70255</td>\n",
       "      <td>0.714795</td>\n",
       "      <td>578.495079</td>\n",
       "      <td>106.250557</td>\n",
       "      <td>250.250269</td>\n",
       "      <td>15.874497</td>\n",
       "      <td>9001.202677</td>\n",
       "      <td>16.674184</td>\n",
       "      <td>321.999592</td>\n",
       "    </tr>\n",
       "    <tr>\n",
       "      <th>2022-01-04</th>\n",
       "      <td>3.673096</td>\n",
       "      <td>104.899369</td>\n",
       "      <td>105.874950</td>\n",
       "      <td>482.301630</td>\n",
       "      <td>1.801500</td>\n",
       "      <td>553.427992</td>\n",
       "      <td>103.104100</td>\n",
       "      <td>1.381105</td>\n",
       "      <td>1.8000</td>\n",
       "      <td>1.698131</td>\n",
       "      <td>...</td>\n",
       "      <td>0.000551</td>\n",
       "      <td>2.70255</td>\n",
       "      <td>0.713539</td>\n",
       "      <td>580.492727</td>\n",
       "      <td>106.125034</td>\n",
       "      <td>250.249886</td>\n",
       "      <td>16.037760</td>\n",
       "      <td>9001.200930</td>\n",
       "      <td>16.718437</td>\n",
       "      <td>321.999592</td>\n",
       "    </tr>\n",
       "    <tr>\n",
       "      <th>2022-01-05</th>\n",
       "      <td>3.673102</td>\n",
       "      <td>105.250158</td>\n",
       "      <td>106.902530</td>\n",
       "      <td>483.164239</td>\n",
       "      <td>1.802797</td>\n",
       "      <td>552.652983</td>\n",
       "      <td>103.102801</td>\n",
       "      <td>1.384754</td>\n",
       "      <td>1.8005</td>\n",
       "      <td>1.691373</td>\n",
       "      <td>...</td>\n",
       "      <td>0.000552</td>\n",
       "      <td>2.70255</td>\n",
       "      <td>0.716268</td>\n",
       "      <td>579.501261</td>\n",
       "      <td>105.550109</td>\n",
       "      <td>250.249682</td>\n",
       "      <td>15.893898</td>\n",
       "      <td>9001.187415</td>\n",
       "      <td>16.770433</td>\n",
       "      <td>321.999592</td>\n",
       "    </tr>\n",
       "  </tbody>\n",
       "</table>\n",
       "<p>5 rows × 168 columns</p>\n",
       "</div>"
      ],
      "text/plain": [
       "                 AED         AFN         ALL         AMD       ANG  \\\n",
       "2022-01-01  3.673042  103.750404  106.650403  480.234325  1.802591   \n",
       "2022-01-02  3.672980  103.749983  106.650326  480.234325  1.802591   \n",
       "2022-01-03  3.673103  103.750299  106.249880  481.590005  1.802973   \n",
       "2022-01-04  3.673096  104.899369  105.874950  482.301630  1.801500   \n",
       "2022-01-05  3.673102  105.250158  106.902530  483.164239  1.802797   \n",
       "\n",
       "                   AOA         ARS       AUD     AWG       AZN  ...       XAU  \\\n",
       "2022-01-01  550.590403  102.689974  1.375800  1.8000  1.703970  ...  0.000547   \n",
       "2022-01-02  550.590435  102.664691  1.376179  1.8000  1.698647  ...  0.000547   \n",
       "2022-01-03  554.203977  102.958502  1.389502  1.8005  1.701522  ...  0.000554   \n",
       "2022-01-04  553.427992  103.104100  1.381105  1.8000  1.698131  ...  0.000551   \n",
       "2022-01-05  552.652983  103.102801  1.384754  1.8005  1.691373  ...  0.000552   \n",
       "\n",
       "                XCD       XDR         XOF         XPF         YER        ZAR  \\\n",
       "2022-01-01  2.70255  0.714652  579.503602  105.850364  250.250364  15.951045   \n",
       "2022-01-02  2.70255  0.714652  579.499504  105.850128  250.249584  15.964896   \n",
       "2022-01-03  2.70255  0.714795  578.495079  106.250557  250.250269  15.874497   \n",
       "2022-01-04  2.70255  0.713539  580.492727  106.125034  250.249886  16.037760   \n",
       "2022-01-05  2.70255  0.716268  579.501261  105.550109  250.249682  15.893898   \n",
       "\n",
       "                    ZMK        ZMW         ZWL  \n",
       "2022-01-01  9001.203593  16.663427  321.999592  \n",
       "2022-01-02  9001.202654  16.663427  321.999592  \n",
       "2022-01-03  9001.202677  16.674184  321.999592  \n",
       "2022-01-04  9001.200930  16.718437  321.999592  \n",
       "2022-01-05  9001.187415  16.770433  321.999592  \n",
       "\n",
       "[5 rows x 168 columns]"
      ]
     },
     "execution_count": 22,
     "metadata": {},
     "output_type": "execute_result"
    }
   ],
   "source": [
    "df.head(5)"
   ]
  },
  {
   "cell_type": "code",
   "execution_count": 23,
   "id": "3093b09a",
   "metadata": {},
   "outputs": [
    {
     "data": {
      "text/html": [
       "<div>\n",
       "<style scoped>\n",
       "    .dataframe tbody tr th:only-of-type {\n",
       "        vertical-align: middle;\n",
       "    }\n",
       "\n",
       "    .dataframe tbody tr th {\n",
       "        vertical-align: top;\n",
       "    }\n",
       "\n",
       "    .dataframe thead th {\n",
       "        text-align: right;\n",
       "    }\n",
       "</style>\n",
       "<table border=\"1\" class=\"dataframe\">\n",
       "  <thead>\n",
       "    <tr style=\"text-align: right;\">\n",
       "      <th></th>\n",
       "      <th>AED</th>\n",
       "      <th>AFN</th>\n",
       "      <th>ALL</th>\n",
       "      <th>AMD</th>\n",
       "      <th>ANG</th>\n",
       "      <th>AOA</th>\n",
       "      <th>ARS</th>\n",
       "      <th>AUD</th>\n",
       "      <th>AWG</th>\n",
       "      <th>AZN</th>\n",
       "      <th>...</th>\n",
       "      <th>XAU</th>\n",
       "      <th>XCD</th>\n",
       "      <th>XDR</th>\n",
       "      <th>XOF</th>\n",
       "      <th>XPF</th>\n",
       "      <th>YER</th>\n",
       "      <th>ZAR</th>\n",
       "      <th>ZMK</th>\n",
       "      <th>ZMW</th>\n",
       "      <th>ZWL</th>\n",
       "    </tr>\n",
       "  </thead>\n",
       "  <tbody>\n",
       "    <tr>\n",
       "      <th>2022-10-01</th>\n",
       "      <td>3.673020</td>\n",
       "      <td>88.503991</td>\n",
       "      <td>118.950403</td>\n",
       "      <td>405.650403</td>\n",
       "      <td>1.803199</td>\n",
       "      <td>433.405504</td>\n",
       "      <td>147.301442</td>\n",
       "      <td>1.561524</td>\n",
       "      <td>1.8000</td>\n",
       "      <td>1.703970</td>\n",
       "      <td>...</td>\n",
       "      <td>0.000602</td>\n",
       "      <td>2.70255</td>\n",
       "      <td>0.784155</td>\n",
       "      <td>582.000332</td>\n",
       "      <td>66.925037</td>\n",
       "      <td>250.250364</td>\n",
       "      <td>18.091040</td>\n",
       "      <td>9001.203593</td>\n",
       "      <td>15.783448</td>\n",
       "      <td>321.999592</td>\n",
       "    </tr>\n",
       "    <tr>\n",
       "      <th>2022-10-02</th>\n",
       "      <td>3.673020</td>\n",
       "      <td>88.498126</td>\n",
       "      <td>118.949783</td>\n",
       "      <td>405.649830</td>\n",
       "      <td>1.803199</td>\n",
       "      <td>433.405498</td>\n",
       "      <td>147.369401</td>\n",
       "      <td>1.557899</td>\n",
       "      <td>1.8000</td>\n",
       "      <td>1.701624</td>\n",
       "      <td>...</td>\n",
       "      <td>0.000601</td>\n",
       "      <td>2.70255</td>\n",
       "      <td>0.784155</td>\n",
       "      <td>582.000338</td>\n",
       "      <td>66.925016</td>\n",
       "      <td>250.249517</td>\n",
       "      <td>18.067504</td>\n",
       "      <td>9001.196767</td>\n",
       "      <td>15.783448</td>\n",
       "      <td>321.999592</td>\n",
       "    </tr>\n",
       "    <tr>\n",
       "      <th>2022-10-03</th>\n",
       "      <td>3.673103</td>\n",
       "      <td>88.503112</td>\n",
       "      <td>118.949589</td>\n",
       "      <td>406.220289</td>\n",
       "      <td>1.801732</td>\n",
       "      <td>434.110150</td>\n",
       "      <td>148.257641</td>\n",
       "      <td>1.538071</td>\n",
       "      <td>1.8025</td>\n",
       "      <td>1.699000</td>\n",
       "      <td>...</td>\n",
       "      <td>0.000588</td>\n",
       "      <td>2.70255</td>\n",
       "      <td>0.780939</td>\n",
       "      <td>667.500765</td>\n",
       "      <td>121.702808</td>\n",
       "      <td>250.249925</td>\n",
       "      <td>17.737650</td>\n",
       "      <td>9001.232138</td>\n",
       "      <td>15.720478</td>\n",
       "      <td>321.999592</td>\n",
       "    </tr>\n",
       "    <tr>\n",
       "      <th>2022-10-04</th>\n",
       "      <td>3.673097</td>\n",
       "      <td>88.000072</td>\n",
       "      <td>118.388979</td>\n",
       "      <td>406.490298</td>\n",
       "      <td>1.803148</td>\n",
       "      <td>434.815297</td>\n",
       "      <td>148.583548</td>\n",
       "      <td>1.535167</td>\n",
       "      <td>1.8000</td>\n",
       "      <td>1.704591</td>\n",
       "      <td>...</td>\n",
       "      <td>0.000580</td>\n",
       "      <td>2.70255</td>\n",
       "      <td>0.781259</td>\n",
       "      <td>663.447320</td>\n",
       "      <td>121.701184</td>\n",
       "      <td>250.250323</td>\n",
       "      <td>17.642895</td>\n",
       "      <td>9001.195004</td>\n",
       "      <td>15.781579</td>\n",
       "      <td>321.999592</td>\n",
       "    </tr>\n",
       "    <tr>\n",
       "      <th>2022-10-05</th>\n",
       "      <td>3.673050</td>\n",
       "      <td>87.783298</td>\n",
       "      <td>118.354226</td>\n",
       "      <td>405.221843</td>\n",
       "      <td>1.802443</td>\n",
       "      <td>434.815298</td>\n",
       "      <td>148.612436</td>\n",
       "      <td>1.549655</td>\n",
       "      <td>1.8000</td>\n",
       "      <td>1.697491</td>\n",
       "      <td>...</td>\n",
       "      <td>0.000586</td>\n",
       "      <td>2.70255</td>\n",
       "      <td>0.776355</td>\n",
       "      <td>660.977121</td>\n",
       "      <td>120.849987</td>\n",
       "      <td>250.249920</td>\n",
       "      <td>17.758205</td>\n",
       "      <td>9001.196211</td>\n",
       "      <td>15.776405</td>\n",
       "      <td>321.999592</td>\n",
       "    </tr>\n",
       "  </tbody>\n",
       "</table>\n",
       "<p>5 rows × 168 columns</p>\n",
       "</div>"
      ],
      "text/plain": [
       "                 AED        AFN         ALL         AMD       ANG         AOA  \\\n",
       "2022-10-01  3.673020  88.503991  118.950403  405.650403  1.803199  433.405504   \n",
       "2022-10-02  3.673020  88.498126  118.949783  405.649830  1.803199  433.405498   \n",
       "2022-10-03  3.673103  88.503112  118.949589  406.220289  1.801732  434.110150   \n",
       "2022-10-04  3.673097  88.000072  118.388979  406.490298  1.803148  434.815297   \n",
       "2022-10-05  3.673050  87.783298  118.354226  405.221843  1.802443  434.815298   \n",
       "\n",
       "                   ARS       AUD     AWG       AZN  ...       XAU      XCD  \\\n",
       "2022-10-01  147.301442  1.561524  1.8000  1.703970  ...  0.000602  2.70255   \n",
       "2022-10-02  147.369401  1.557899  1.8000  1.701624  ...  0.000601  2.70255   \n",
       "2022-10-03  148.257641  1.538071  1.8025  1.699000  ...  0.000588  2.70255   \n",
       "2022-10-04  148.583548  1.535167  1.8000  1.704591  ...  0.000580  2.70255   \n",
       "2022-10-05  148.612436  1.549655  1.8000  1.697491  ...  0.000586  2.70255   \n",
       "\n",
       "                 XDR         XOF         XPF         YER        ZAR  \\\n",
       "2022-10-01  0.784155  582.000332   66.925037  250.250364  18.091040   \n",
       "2022-10-02  0.784155  582.000338   66.925016  250.249517  18.067504   \n",
       "2022-10-03  0.780939  667.500765  121.702808  250.249925  17.737650   \n",
       "2022-10-04  0.781259  663.447320  121.701184  250.250323  17.642895   \n",
       "2022-10-05  0.776355  660.977121  120.849987  250.249920  17.758205   \n",
       "\n",
       "                    ZMK        ZMW         ZWL  \n",
       "2022-10-01  9001.203593  15.783448  321.999592  \n",
       "2022-10-02  9001.196767  15.783448  321.999592  \n",
       "2022-10-03  9001.232138  15.720478  321.999592  \n",
       "2022-10-04  9001.195004  15.781579  321.999592  \n",
       "2022-10-05  9001.196211  15.776405  321.999592  \n",
       "\n",
       "[5 rows x 168 columns]"
      ]
     },
     "execution_count": 23,
     "metadata": {},
     "output_type": "execute_result"
    }
   ],
   "source": [
    "df.tail(5)"
   ]
  },
  {
   "cell_type": "code",
   "execution_count": 24,
   "id": "399bebcd",
   "metadata": {},
   "outputs": [
    {
     "data": {
      "text/plain": [
       "(278, 168)"
      ]
     },
     "execution_count": 24,
     "metadata": {},
     "output_type": "execute_result"
    }
   ],
   "source": [
    "df.shape"
   ]
  },
  {
   "cell_type": "code",
   "execution_count": 25,
   "id": "1e9dbd8b",
   "metadata": {},
   "outputs": [
    {
     "data": {
      "text/plain": [
       "array(['AED', 'AFN', 'ALL', 'AMD', 'ANG', 'AOA', 'ARS', 'AUD', 'AWG',\n",
       "       'AZN', 'BAM', 'BBD', 'BDT', 'BGN', 'BHD', 'BIF', 'BMD', 'BND',\n",
       "       'BOB', 'BRL', 'BSD', 'BTC', 'BTN', 'BWP', 'BYN', 'BYR', 'BZD',\n",
       "       'CAD', 'CDF', 'CHF', 'CLF', 'CLP', 'CNY', 'COP', 'CRC', 'CUC',\n",
       "       'CUP', 'CVE', 'CZK', 'DJF', 'DKK', 'DOP', 'DZD', 'EGP', 'ERN',\n",
       "       'ETB', 'EUR', 'FJD', 'FKP', 'GBP', 'GEL', 'GGP', 'GHS', 'GIP',\n",
       "       'GMD', 'GNF', 'GTQ', 'GYD', 'HKD', 'HNL', 'HRK', 'HTG', 'HUF',\n",
       "       'IDR', 'ILS', 'IMP', 'INR', 'IQD', 'IRR', 'ISK', 'JEP', 'JMD',\n",
       "       'JOD', 'JPY', 'KES', 'KGS', 'KHR', 'KMF', 'KPW', 'KRW', 'KWD',\n",
       "       'KYD', 'KZT', 'LAK', 'LBP', 'LKR', 'LRD', 'LSL', 'LTL', 'LVL',\n",
       "       'LYD', 'MAD', 'MDL', 'MGA', 'MKD', 'MMK', 'MNT', 'MOP', 'MRO',\n",
       "       'MUR', 'MVR', 'MWK', 'MXN', 'MYR', 'MZN', 'NAD', 'NGN', 'NIO',\n",
       "       'NOK', 'NPR', 'NZD', 'OMR', 'PAB', 'PEN', 'PGK', 'PHP', 'PKR',\n",
       "       'PLN', 'PYG', 'QAR', 'RON', 'RSD', 'RUB', 'RWF', 'SAR', 'SBD',\n",
       "       'SCR', 'SDG', 'SEK', 'SGD', 'SHP', 'SLL', 'SOS', 'SRD', 'STD',\n",
       "       'SVC', 'SYP', 'SZL', 'THB', 'TJS', 'TMT', 'TND', 'TOP', 'TRY',\n",
       "       'TTD', 'TWD', 'TZS', 'UAH', 'UGX', 'USD', 'UYU', 'UZS', 'VEF',\n",
       "       'VND', 'VUV', 'WST', 'XAF', 'XAG', 'XAU', 'XCD', 'XDR', 'XOF',\n",
       "       'XPF', 'YER', 'ZAR', 'ZMK', 'ZMW', 'ZWL'], dtype=object)"
      ]
     },
     "execution_count": 25,
     "metadata": {},
     "output_type": "execute_result"
    }
   ],
   "source": [
    "#check all the currencies\n",
    "df.columns.to_numpy()"
   ]
  },
  {
   "cell_type": "code",
   "execution_count": 26,
   "id": "46c63e76",
   "metadata": {},
   "outputs": [],
   "source": [
    "#sort columns alphabetical\n",
    "sort_col = sorted(df.columns.to_list())"
   ]
  },
  {
   "cell_type": "code",
   "execution_count": 27,
   "id": "6f618acd",
   "metadata": {},
   "outputs": [],
   "source": [
    "df = df.loc[:,sort_col]"
   ]
  },
  {
   "cell_type": "code",
   "execution_count": 30,
   "id": "a3b3d92e",
   "metadata": {},
   "outputs": [],
   "source": [
    "df.to_csv('exchange_rate.csv')"
   ]
  },
  {
   "cell_type": "code",
   "execution_count": 156,
   "id": "33e82554",
   "metadata": {},
   "outputs": [],
   "source": [
    "df = pd.read_csv('exchange_rate.csv')"
   ]
  },
  {
   "cell_type": "markdown",
   "id": "6321e346",
   "metadata": {},
   "source": [
    "# Data Cleaning"
   ]
  },
  {
   "cell_type": "code",
   "execution_count": 3,
   "id": "0ebec3e5",
   "metadata": {},
   "outputs": [
    {
     "data": {
      "text/plain": [
       "0"
      ]
     },
     "execution_count": 3,
     "metadata": {},
     "output_type": "execute_result"
    }
   ],
   "source": [
    "#how many duplicates\n",
    "df.duplicated().sum()"
   ]
  },
  {
   "cell_type": "code",
   "execution_count": 4,
   "id": "af9153c9",
   "metadata": {},
   "outputs": [
    {
     "data": {
      "text/html": [
       "<div>\n",
       "<style scoped>\n",
       "    .dataframe tbody tr th:only-of-type {\n",
       "        vertical-align: middle;\n",
       "    }\n",
       "\n",
       "    .dataframe tbody tr th {\n",
       "        vertical-align: top;\n",
       "    }\n",
       "\n",
       "    .dataframe thead th {\n",
       "        text-align: right;\n",
       "    }\n",
       "</style>\n",
       "<table border=\"1\" class=\"dataframe\">\n",
       "  <thead>\n",
       "    <tr style=\"text-align: right;\">\n",
       "      <th></th>\n",
       "      <th>Unnamed: 0</th>\n",
       "      <th>AED</th>\n",
       "      <th>AFN</th>\n",
       "      <th>ALL</th>\n",
       "      <th>AMD</th>\n",
       "      <th>ANG</th>\n",
       "      <th>AOA</th>\n",
       "      <th>ARS</th>\n",
       "      <th>AUD</th>\n",
       "      <th>AWG</th>\n",
       "      <th>...</th>\n",
       "      <th>XAU</th>\n",
       "      <th>XCD</th>\n",
       "      <th>XDR</th>\n",
       "      <th>XOF</th>\n",
       "      <th>XPF</th>\n",
       "      <th>YER</th>\n",
       "      <th>ZAR</th>\n",
       "      <th>ZMK</th>\n",
       "      <th>ZMW</th>\n",
       "      <th>ZWL</th>\n",
       "    </tr>\n",
       "  </thead>\n",
       "  <tbody>\n",
       "    <tr>\n",
       "      <th>0</th>\n",
       "      <td>2022-01-01</td>\n",
       "      <td>3.673042</td>\n",
       "      <td>103.750404</td>\n",
       "      <td>106.650403</td>\n",
       "      <td>480.234325</td>\n",
       "      <td>1.802591</td>\n",
       "      <td>550.590403</td>\n",
       "      <td>102.689974</td>\n",
       "      <td>1.375800</td>\n",
       "      <td>1.8000</td>\n",
       "      <td>...</td>\n",
       "      <td>0.000547</td>\n",
       "      <td>2.70255</td>\n",
       "      <td>0.714652</td>\n",
       "      <td>579.503602</td>\n",
       "      <td>105.850364</td>\n",
       "      <td>250.250364</td>\n",
       "      <td>15.951045</td>\n",
       "      <td>9001.203593</td>\n",
       "      <td>16.663427</td>\n",
       "      <td>321.999592</td>\n",
       "    </tr>\n",
       "    <tr>\n",
       "      <th>1</th>\n",
       "      <td>2022-01-02</td>\n",
       "      <td>3.672980</td>\n",
       "      <td>103.749983</td>\n",
       "      <td>106.650326</td>\n",
       "      <td>480.234325</td>\n",
       "      <td>1.802591</td>\n",
       "      <td>550.590435</td>\n",
       "      <td>102.664691</td>\n",
       "      <td>1.376179</td>\n",
       "      <td>1.8000</td>\n",
       "      <td>...</td>\n",
       "      <td>0.000547</td>\n",
       "      <td>2.70255</td>\n",
       "      <td>0.714652</td>\n",
       "      <td>579.499504</td>\n",
       "      <td>105.850128</td>\n",
       "      <td>250.249584</td>\n",
       "      <td>15.964896</td>\n",
       "      <td>9001.202654</td>\n",
       "      <td>16.663427</td>\n",
       "      <td>321.999592</td>\n",
       "    </tr>\n",
       "    <tr>\n",
       "      <th>2</th>\n",
       "      <td>2022-01-03</td>\n",
       "      <td>3.673103</td>\n",
       "      <td>103.750299</td>\n",
       "      <td>106.249880</td>\n",
       "      <td>481.590005</td>\n",
       "      <td>1.802973</td>\n",
       "      <td>554.203977</td>\n",
       "      <td>102.958502</td>\n",
       "      <td>1.389502</td>\n",
       "      <td>1.8005</td>\n",
       "      <td>...</td>\n",
       "      <td>0.000554</td>\n",
       "      <td>2.70255</td>\n",
       "      <td>0.714795</td>\n",
       "      <td>578.495079</td>\n",
       "      <td>106.250557</td>\n",
       "      <td>250.250269</td>\n",
       "      <td>15.874497</td>\n",
       "      <td>9001.202677</td>\n",
       "      <td>16.674184</td>\n",
       "      <td>321.999592</td>\n",
       "    </tr>\n",
       "    <tr>\n",
       "      <th>3</th>\n",
       "      <td>2022-01-04</td>\n",
       "      <td>3.673096</td>\n",
       "      <td>104.899369</td>\n",
       "      <td>105.874950</td>\n",
       "      <td>482.301630</td>\n",
       "      <td>1.801500</td>\n",
       "      <td>553.427992</td>\n",
       "      <td>103.104100</td>\n",
       "      <td>1.381105</td>\n",
       "      <td>1.8000</td>\n",
       "      <td>...</td>\n",
       "      <td>0.000551</td>\n",
       "      <td>2.70255</td>\n",
       "      <td>0.713539</td>\n",
       "      <td>580.492727</td>\n",
       "      <td>106.125034</td>\n",
       "      <td>250.249886</td>\n",
       "      <td>16.037760</td>\n",
       "      <td>9001.200930</td>\n",
       "      <td>16.718437</td>\n",
       "      <td>321.999592</td>\n",
       "    </tr>\n",
       "  </tbody>\n",
       "</table>\n",
       "<p>4 rows × 169 columns</p>\n",
       "</div>"
      ],
      "text/plain": [
       "   Unnamed: 0       AED         AFN         ALL         AMD       ANG  \\\n",
       "0  2022-01-01  3.673042  103.750404  106.650403  480.234325  1.802591   \n",
       "1  2022-01-02  3.672980  103.749983  106.650326  480.234325  1.802591   \n",
       "2  2022-01-03  3.673103  103.750299  106.249880  481.590005  1.802973   \n",
       "3  2022-01-04  3.673096  104.899369  105.874950  482.301630  1.801500   \n",
       "\n",
       "          AOA         ARS       AUD     AWG  ...       XAU      XCD       XDR  \\\n",
       "0  550.590403  102.689974  1.375800  1.8000  ...  0.000547  2.70255  0.714652   \n",
       "1  550.590435  102.664691  1.376179  1.8000  ...  0.000547  2.70255  0.714652   \n",
       "2  554.203977  102.958502  1.389502  1.8005  ...  0.000554  2.70255  0.714795   \n",
       "3  553.427992  103.104100  1.381105  1.8000  ...  0.000551  2.70255  0.713539   \n",
       "\n",
       "          XOF         XPF         YER        ZAR          ZMK        ZMW  \\\n",
       "0  579.503602  105.850364  250.250364  15.951045  9001.203593  16.663427   \n",
       "1  579.499504  105.850128  250.249584  15.964896  9001.202654  16.663427   \n",
       "2  578.495079  106.250557  250.250269  15.874497  9001.202677  16.674184   \n",
       "3  580.492727  106.125034  250.249886  16.037760  9001.200930  16.718437   \n",
       "\n",
       "          ZWL  \n",
       "0  321.999592  \n",
       "1  321.999592  \n",
       "2  321.999592  \n",
       "3  321.999592  \n",
       "\n",
       "[4 rows x 169 columns]"
      ]
     },
     "execution_count": 4,
     "metadata": {},
     "output_type": "execute_result"
    }
   ],
   "source": [
    "df.head(4)"
   ]
  },
  {
   "cell_type": "code",
   "execution_count": 159,
   "id": "c93cb7f3",
   "metadata": {},
   "outputs": [],
   "source": [
    "df.rename(columns={'Unnamed: 0':'DATE'},inplace=True)"
   ]
  },
  {
   "cell_type": "code",
   "execution_count": 6,
   "id": "294d0928",
   "metadata": {},
   "outputs": [],
   "source": [
    "'''\n",
    "There are over 160 columns in the dataframe, so checking for null values directly will only show first 5 and last five columns\n",
    "so to make sure all columns are shown, i intend to create a numpy array and add column name and sum of nan for every columns\n",
    "'''\n",
    "arr = np.array([])\n",
    "ser = df.isnull().sum()\n",
    "for value in ser.index:\n",
    "    arr = np.append(arr,[value,ser.loc[value]],axis=0)"
   ]
  },
  {
   "cell_type": "code",
   "execution_count": 7,
   "id": "82f22b36",
   "metadata": {},
   "outputs": [
    {
     "data": {
      "text/plain": [
       "array(['DATE', '0', 'AED', '0', 'AFN', '0', 'ALL', '0', 'AMD', '0', 'ANG',\n",
       "       '0', 'AOA', '0', 'ARS', '0', 'AUD', '0', 'AWG', '0', 'AZN', '0',\n",
       "       'BAM', '0', 'BBD', '0', 'BDT', '0', 'BGN', '0', 'BHD', '0', 'BIF',\n",
       "       '0', 'BMD', '0', 'BND', '0', 'BOB', '0', 'BRL', '0', 'BSD', '0',\n",
       "       'BTC', '0', 'BTN', '0', 'BWP', '0', 'BYN', '0', 'BYR', '0', 'BZD',\n",
       "       '0', 'CAD', '0', 'CDF', '0', 'CHF', '0', 'CLF', '0', 'CLP', '0',\n",
       "       'CNY', '0', 'COP', '0', 'CRC', '0', 'CUC', '0', 'CUP', '0', 'CVE',\n",
       "       '0', 'CZK', '0', 'DJF', '0', 'DKK', '0', 'DOP', '0', 'DZD', '0',\n",
       "       'EGP', '0', 'ERN', '2', 'ETB', '0', 'EUR', '0', 'FJD', '0', 'FKP',\n",
       "       '2', 'GBP', '0', 'GEL', '0', 'GGP', '2', 'GHS', '0', 'GIP', '2',\n",
       "       'GMD', '0', 'GNF', '0', 'GTQ', '0', 'GYD', '0', 'HKD', '0', 'HNL',\n",
       "       '0', 'HRK', '0', 'HTG', '0', 'HUF', '0', 'IDR', '0', 'ILS', '0',\n",
       "       'IMP', '2', 'INR', '0', 'IQD', '0', 'IRR', '0', 'ISK', '0', 'JEP',\n",
       "       '2', 'JMD', '0', 'JOD', '0', 'JPY', '0', 'KES', '0', 'KGS', '0',\n",
       "       'KHR', '0', 'KMF', '0', 'KPW', '2', 'KRW', '0', 'KWD', '0', 'KYD',\n",
       "       '0', 'KZT', '0', 'LAK', '0', 'LBP', '0', 'LKR', '0', 'LRD', '0',\n",
       "       'LSL', '0', 'LTL', '0', 'LVL', '0', 'LYD', '0', 'MAD', '0', 'MDL',\n",
       "       '0', 'MGA', '0', 'MKD', '0', 'MMK', '0', 'MNT', '2', 'MOP', '0',\n",
       "       'MRO', '0', 'MUR', '0', 'MVR', '0', 'MWK', '0', 'MXN', '0', 'MYR',\n",
       "       '0', 'MZN', '0', 'NAD', '0', 'NGN', '0', 'NIO', '0', 'NOK', '0',\n",
       "       'NPR', '0', 'NZD', '0', 'OMR', '0', 'PAB', '0', 'PEN', '0', 'PGK',\n",
       "       '0', 'PHP', '0', 'PKR', '0', 'PLN', '0', 'PYG', '0', 'QAR', '0',\n",
       "       'RON', '0', 'RSD', '0', 'RUB', '0', 'RWF', '0', 'SAR', '0', 'SBD',\n",
       "       '0', 'SCR', '0', 'SDG', '0', 'SEK', '0', 'SGD', '0', 'SHP', '0',\n",
       "       'SLL', '0', 'SOS', '0', 'SRD', '0', 'STD', '0', 'SVC', '0', 'SYP',\n",
       "       '2', 'SZL', '0', 'THB', '0', 'TJS', '0', 'TMT', '0', 'TND', '0',\n",
       "       'TOP', '0', 'TRY', '0', 'TTD', '0', 'TWD', '0', 'TZS', '0', 'UAH',\n",
       "       '0', 'UGX', '0', 'USD', '0', 'UYU', '0', 'UZS', '0', 'VEF', '87',\n",
       "       'VND', '0', 'VUV', '2', 'WST', '2', 'XAF', '0', 'XAG', '0', 'XAU',\n",
       "       '0', 'XCD', '0', 'XDR', '0', 'XOF', '0', 'XPF', '0', 'YER', '0',\n",
       "       'ZAR', '0', 'ZMK', '0', 'ZMW', '0', 'ZWL', '0'], dtype='<U32')"
      ]
     },
     "execution_count": 7,
     "metadata": {},
     "output_type": "execute_result"
    }
   ],
   "source": [
    "arr"
   ]
  },
  {
   "cell_type": "code",
   "execution_count": 160,
   "id": "29d6a815",
   "metadata": {},
   "outputs": [],
   "source": [
    "df.set_index('DATE',inplace=True)"
   ]
  },
  {
   "cell_type": "code",
   "execution_count": 161,
   "id": "9bef0810",
   "metadata": {},
   "outputs": [],
   "source": [
    "#fill all na with the preceeding values\n",
    "df.fillna(method='ffill', inplace=True)"
   ]
  },
  {
   "cell_type": "code",
   "execution_count": 10,
   "id": "ff58c73e",
   "metadata": {},
   "outputs": [],
   "source": [
    "arr = np.array([])\n",
    "ser = df.isnull().sum()\n",
    "for value in ser.index:\n",
    "    arr = np.append(arr,[value,ser.loc[value]],axis=0)"
   ]
  },
  {
   "cell_type": "code",
   "execution_count": 11,
   "id": "026b1abf",
   "metadata": {},
   "outputs": [
    {
     "data": {
      "text/plain": [
       "array(['AED', '0', 'AFN', '0', 'ALL', '0', 'AMD', '0', 'ANG', '0', 'AOA',\n",
       "       '0', 'ARS', '0', 'AUD', '0', 'AWG', '0', 'AZN', '0', 'BAM', '0',\n",
       "       'BBD', '0', 'BDT', '0', 'BGN', '0', 'BHD', '0', 'BIF', '0', 'BMD',\n",
       "       '0', 'BND', '0', 'BOB', '0', 'BRL', '0', 'BSD', '0', 'BTC', '0',\n",
       "       'BTN', '0', 'BWP', '0', 'BYN', '0', 'BYR', '0', 'BZD', '0', 'CAD',\n",
       "       '0', 'CDF', '0', 'CHF', '0', 'CLF', '0', 'CLP', '0', 'CNY', '0',\n",
       "       'COP', '0', 'CRC', '0', 'CUC', '0', 'CUP', '0', 'CVE', '0', 'CZK',\n",
       "       '0', 'DJF', '0', 'DKK', '0', 'DOP', '0', 'DZD', '0', 'EGP', '0',\n",
       "       'ERN', '0', 'ETB', '0', 'EUR', '0', 'FJD', '0', 'FKP', '0', 'GBP',\n",
       "       '0', 'GEL', '0', 'GGP', '0', 'GHS', '0', 'GIP', '0', 'GMD', '0',\n",
       "       'GNF', '0', 'GTQ', '0', 'GYD', '0', 'HKD', '0', 'HNL', '0', 'HRK',\n",
       "       '0', 'HTG', '0', 'HUF', '0', 'IDR', '0', 'ILS', '0', 'IMP', '0',\n",
       "       'INR', '0', 'IQD', '0', 'IRR', '0', 'ISK', '0', 'JEP', '0', 'JMD',\n",
       "       '0', 'JOD', '0', 'JPY', '0', 'KES', '0', 'KGS', '0', 'KHR', '0',\n",
       "       'KMF', '0', 'KPW', '0', 'KRW', '0', 'KWD', '0', 'KYD', '0', 'KZT',\n",
       "       '0', 'LAK', '0', 'LBP', '0', 'LKR', '0', 'LRD', '0', 'LSL', '0',\n",
       "       'LTL', '0', 'LVL', '0', 'LYD', '0', 'MAD', '0', 'MDL', '0', 'MGA',\n",
       "       '0', 'MKD', '0', 'MMK', '0', 'MNT', '0', 'MOP', '0', 'MRO', '0',\n",
       "       'MUR', '0', 'MVR', '0', 'MWK', '0', 'MXN', '0', 'MYR', '0', 'MZN',\n",
       "       '0', 'NAD', '0', 'NGN', '0', 'NIO', '0', 'NOK', '0', 'NPR', '0',\n",
       "       'NZD', '0', 'OMR', '0', 'PAB', '0', 'PEN', '0', 'PGK', '0', 'PHP',\n",
       "       '0', 'PKR', '0', 'PLN', '0', 'PYG', '0', 'QAR', '0', 'RON', '0',\n",
       "       'RSD', '0', 'RUB', '0', 'RWF', '0', 'SAR', '0', 'SBD', '0', 'SCR',\n",
       "       '0', 'SDG', '0', 'SEK', '0', 'SGD', '0', 'SHP', '0', 'SLL', '0',\n",
       "       'SOS', '0', 'SRD', '0', 'STD', '0', 'SVC', '0', 'SYP', '0', 'SZL',\n",
       "       '0', 'THB', '0', 'TJS', '0', 'TMT', '0', 'TND', '0', 'TOP', '0',\n",
       "       'TRY', '0', 'TTD', '0', 'TWD', '0', 'TZS', '0', 'UAH', '0', 'UGX',\n",
       "       '0', 'USD', '0', 'UYU', '0', 'UZS', '0', 'VEF', '0', 'VND', '0',\n",
       "       'VUV', '0', 'WST', '0', 'XAF', '0', 'XAG', '0', 'XAU', '0', 'XCD',\n",
       "       '0', 'XDR', '0', 'XOF', '0', 'XPF', '0', 'YER', '0', 'ZAR', '0',\n",
       "       'ZMK', '0', 'ZMW', '0', 'ZWL', '0'], dtype='<U32')"
      ]
     },
     "execution_count": 11,
     "metadata": {},
     "output_type": "execute_result"
    }
   ],
   "source": [
    "arr"
   ]
  },
  {
   "cell_type": "markdown",
   "id": "a8909570",
   "metadata": {},
   "source": [
    "# Analysis and Visualization"
   ]
  },
  {
   "cell_type": "markdown",
   "id": "e51b561b",
   "metadata": {},
   "source": [
    "### The highest and lowest rate so far , the dates and the currency"
   ]
  },
  {
   "cell_type": "code",
   "execution_count": 12,
   "id": "e076ee8b",
   "metadata": {},
   "outputs": [],
   "source": [
    "rate_values = df.values"
   ]
  },
  {
   "cell_type": "code",
   "execution_count": 182,
   "id": "ddfe04f8",
   "metadata": {},
   "outputs": [],
   "source": [
    "min_dict = dict(df.min())\n",
    "for key,value in min_dict.items():\n",
    "    if value == min(min_dict.values()):\n",
    "        column = key\n",
    "        row = value"
   ]
  },
  {
   "cell_type": "code",
   "execution_count": 188,
   "id": "8c4ba911",
   "metadata": {},
   "outputs": [
    {
     "name": "stdout",
     "output_type": "stream",
     "text": [
      "The lowest rate so far is : \n"
     ]
    },
    {
     "data": {
      "text/plain": [
       "DATE\n",
       "2022-01-01    0.000021\n",
       "Name: BTC, dtype: float64"
      ]
     },
     "execution_count": 188,
     "metadata": {},
     "output_type": "execute_result"
    }
   ],
   "source": [
    "print('The lowest rate so far is : ')\n",
    "df[df[column]==row][column]"
   ]
  },
  {
   "cell_type": "code",
   "execution_count": 189,
   "id": "41e1cd34",
   "metadata": {},
   "outputs": [],
   "source": [
    "max_dict = dict(df.max())\n",
    "for key,value in max_dict.items():\n",
    "    if value == max(max_dict.values()):\n",
    "        column = key\n",
    "        row = value"
   ]
  },
  {
   "cell_type": "code",
   "execution_count": 215,
   "id": "ea61caa6",
   "metadata": {},
   "outputs": [],
   "source": [
    "ser2 = df[df[column]==row][column]\n",
    "index_max = ser2.idxmax()\n",
    "ser_to_df = pd.DataFrame(ser2)"
   ]
  },
  {
   "cell_type": "code",
   "execution_count": 231,
   "id": "2b6f0391",
   "metadata": {},
   "outputs": [
    {
     "name": "stdout",
     "output_type": "stream",
     "text": [
      "The highest rate ever this year is  is 213830222338  more details below\n"
     ]
    },
    {
     "data": {
      "text/plain": [
       "VEF    2.138302e+11\n",
       "dtype: float64"
      ]
     },
     "execution_count": 231,
     "metadata": {},
     "output_type": "execute_result"
    }
   ],
   "source": [
    "import warnings\n",
    "warnings.filterwarnings('ignore')\n",
    "max_value = ser_to_df.max()\n",
    "print(f'The highest rate ever this year is  is {np.int(max_value.values)}  more details below')\n",
    "max_value"
   ]
  },
  {
   "cell_type": "code",
   "execution_count": 232,
   "id": "fedb9a55",
   "metadata": {},
   "outputs": [],
   "source": [
    "df['DATE'] = df.index"
   ]
  },
  {
   "cell_type": "code",
   "execution_count": 233,
   "id": "142a383a",
   "metadata": {},
   "outputs": [],
   "source": [
    "df['DATE'] = pd.to_datetime(df['DATE'])"
   ]
  },
  {
   "cell_type": "markdown",
   "id": "b9e1a76c",
   "metadata": {},
   "source": [
    "### BTC rates over time as the currency that experience the lowest rate so far\n"
   ]
  },
  {
   "cell_type": "code",
   "execution_count": 235,
   "id": "af407d08",
   "metadata": {},
   "outputs": [
    {
     "data": {
      "image/png": "[encoded data removed]",
      "text/plain": [
       "<Figure size 720x360 with 1 Axes>"
      ]
     },
     "metadata": {
      "needs_background": "light"
     },
     "output_type": "display_data"
    }
   ],
   "source": [
    "fig = plt.figure(figsize=(10,5))\n",
    "a = fig.add_axes([0,0,1,1])\n",
    "sns.lineplot(x = df['DATE'], y = df['BTC'], color='red')\n",
    "a.spines['top'].set_color(None)\n",
    "a.spines['right'].set_color(None)\n",
    "a.set_xlabel('Date', fontsize=14)\n",
    "a.set_ylabel('Rate', fontsize=14)\n",
    "a.tick_params(axis='both', labelsize=12, labelrotation=45)\n",
    "a.grid(axis='y')\n",
    "plt.show()"
   ]
  },
  {
   "cell_type": "markdown",
   "id": "e91e1c7d",
   "metadata": {},
   "source": [
    "### VEF rates over time as the currency that experience the lowest rate so far\n"
   ]
  },
  {
   "cell_type": "code",
   "execution_count": 236,
   "id": "4e9db91b",
   "metadata": {},
   "outputs": [
    {
     "data": {
      "image/png": "[encoded data removed]",
      "text/plain": [
       "<Figure size 720x360 with 1 Axes>"
      ]
     },
     "metadata": {
      "needs_background": "light"
     },
     "output_type": "display_data"
    }
   ],
   "source": [
    "fig = plt.figure(figsize=(10,5))\n",
    "a = fig.add_axes([0,0,1,1])\n",
    "sns.lineplot(x = df['DATE'], y = df['VEF'], color='green')\n",
    "a.spines['top'].set_color(None)\n",
    "a.spines['right'].set_color(None)\n",
    "a.set_xlabel('Date', fontsize=14)\n",
    "a.set_ylabel('Rate', fontsize=14)\n",
    "a.tick_params(axis='both', labelsize=12, labelrotation=45)\n",
    "a.grid(axis='y')\n",
    "plt.show()"
   ]
  },
  {
   "cell_type": "markdown",
   "id": "3527891b",
   "metadata": {},
   "source": [
    "### NGN rates over time"
   ]
  },
  {
   "cell_type": "code",
   "execution_count": 18,
   "id": "8bf593db",
   "metadata": {},
   "outputs": [
    {
     "data": {
      "image/png": "[encoded data removed]",
      "text/plain": [
       "<Figure size 720x360 with 1 Axes>"
      ]
     },
     "metadata": {
      "needs_background": "light"
     },
     "output_type": "display_data"
    }
   ],
   "source": [
    "fig = plt.figure(figsize=[10,5])\n",
    "a = fig.add_axes([0,0,1,1])\n",
    "sns.lineplot(x = df['DATE'],y = df['NGN'], ax = a)\n",
    "a.tick_params(axis='x',labelrotation=45,labelsize=12)\n",
    "a.set_title('NGN to USD Exchange rates', fontsize=18)\n",
    "a.set_xlabel('DATE', fontsize=16)\n",
    "a.set_ylabel('RATE', fontsize=16)\n",
    "a.spines['right'].set_color(None)\n",
    "a.spines['top'].set_color(None)\n",
    "a.grid(axis='y')\n",
    "a.tick_params(axis='y', labelsize=12)\n",
    "plt.show()"
   ]
  },
  {
   "cell_type": "markdown",
   "id": "b5aea54a",
   "metadata": {},
   "source": [
    "### EURO rates over time"
   ]
  },
  {
   "cell_type": "code",
   "execution_count": 146,
   "id": "373e4cd2",
   "metadata": {},
   "outputs": [
    {
     "data": {
      "image/png": "[encoded data removed]",
      "text/plain": [
       "<Figure size 720x360 with 1 Axes>"
      ]
     },
     "metadata": {
      "needs_background": "light"
     },
     "output_type": "display_data"
    }
   ],
   "source": [
    "fig = plt.figure(figsize=(10,5))\n",
    "a = fig.add_axes([0,0,1,1])\n",
    "sns.lineplot(x = df['DATE'], y = df['EUR'], color='red')\n",
    "a.spines['bottom'].set_color(None)\n",
    "a.spines['top'].set_color(None)\n",
    "a.spines['left'].set_color(None)\n",
    "a.spines['right'].set_color(None)\n",
    "a.set_xlabel('Date', fontsize=14)\n",
    "a.set_ylabel('Rate', fontsize=14)\n",
    "a.tick_params(axis='both', labelsize=12, labelrotation=45)\n",
    "a.grid(axis='y')\n",
    "plt.show()"
   ]
  },
  {
   "cell_type": "markdown",
   "id": "81029465",
   "metadata": {},
   "source": [
    "### Relationship between NGN and EUR"
   ]
  },
  {
   "cell_type": "code",
   "execution_count": 20,
   "id": "21b1e3e6",
   "metadata": {},
   "outputs": [
    {
     "data": {
      "image/png": "[encoded data removed]",
      "text/plain": [
       "<Figure size 720x360 with 1 Axes>"
      ]
     },
     "metadata": {
      "needs_background": "light"
     },
     "output_type": "display_data"
    }
   ],
   "source": [
    "fig = plt.figure(figsize=(10,5))\n",
    "a = fig.add_axes([0,0,1,1])\n",
    "sns.lineplot(x = df['EUR'], y = df['NGN'], color='pink')\n",
    "a.spines['bottom'].set_color(None)\n",
    "a.spines['top'].set_color(None)\n",
    "a.spines['left'].set_color(None)\n",
    "a.spines['right'].set_color(None)\n",
    "a.set_title('Equivalence between NGN and EUR both in USD', fontsize=18)\n",
    "a.set_xlabel('EUR', fontsize=14)\n",
    "a.set_ylabel('NGN', fontsize=14)\n",
    "a.tick_params(axis='both', labelsize=12, labelrotation=45)\n",
    "a.grid(axis='y')\n",
    "plt.show()"
   ]
  },
  {
   "cell_type": "markdown",
   "id": "2a361deb",
   "metadata": {},
   "source": [
    "### Analysis on Kuwait Dinar as one of the best currency"
   ]
  },
  {
   "cell_type": "code",
   "execution_count": 145,
   "id": "a323f065",
   "metadata": {},
   "outputs": [
    {
     "data": {
      "image/png": "[encoded data removed]",
      "text/plain": [
       "<Figure size 720x360 with 1 Axes>"
      ]
     },
     "metadata": {
      "needs_background": "light"
     },
     "output_type": "display_data"
    }
   ],
   "source": [
    "fig = plt.figure(figsize=(10,5))\n",
    "a = fig.add_axes([0,0,1,1])\n",
    "sns.lineplot(x = df['DATE'], y = df['KWD'], color='yellow')\n",
    "a.set_xlabel('Date', fontsize=14)\n",
    "a.set_ylabel('Rate', fontsize=14)\n",
    "a.tick_params(axis='both', labelsize=12, labelrotation=45)\n",
    "a.grid(axis='y')\n",
    "plt.show()"
   ]
  },
  {
   "cell_type": "markdown",
   "id": "45d1a90b",
   "metadata": {},
   "source": [
    "### Exchange rates for the top 3 african countries by gdp"
   ]
  },
  {
   "cell_type": "code",
   "execution_count": 137,
   "id": "4d33bbf9",
   "metadata": {},
   "outputs": [],
   "source": [
    "wa_currencies = {'ngn':'Nigeria','egp':'Egpyt','zar':'South Africa'}\n",
    "wa_rates = df.loc[:,[a.upper() for a in wa_currencies.keys()]]"
   ]
  },
  {
   "cell_type": "code",
   "execution_count": 138,
   "id": "74e3202c",
   "metadata": {},
   "outputs": [
    {
     "data": {
      "text/html": [
       "<div>\n",
       "<style scoped>\n",
       "    .dataframe tbody tr th:only-of-type {\n",
       "        vertical-align: middle;\n",
       "    }\n",
       "\n",
       "    .dataframe tbody tr th {\n",
       "        vertical-align: top;\n",
       "    }\n",
       "\n",
       "    .dataframe thead th {\n",
       "        text-align: right;\n",
       "    }\n",
       "</style>\n",
       "<table border=\"1\" class=\"dataframe\">\n",
       "  <thead>\n",
       "    <tr style=\"text-align: right;\">\n",
       "      <th></th>\n",
       "      <th>NGN</th>\n",
       "      <th>EGP</th>\n",
       "      <th>ZAR</th>\n",
       "    </tr>\n",
       "    <tr>\n",
       "      <th>DATE</th>\n",
       "      <th></th>\n",
       "      <th></th>\n",
       "      <th></th>\n",
       "    </tr>\n",
       "  </thead>\n",
       "  <tbody>\n",
       "    <tr>\n",
       "      <th>2022-01-01</th>\n",
       "      <td>411.950377</td>\n",
       "      <td>15.709763</td>\n",
       "      <td>15.951045</td>\n",
       "    </tr>\n",
       "    <tr>\n",
       "      <th>2022-01-02</th>\n",
       "      <td>411.950333</td>\n",
       "      <td>15.705895</td>\n",
       "      <td>15.964896</td>\n",
       "    </tr>\n",
       "    <tr>\n",
       "      <th>2022-01-03</th>\n",
       "      <td>412.739897</td>\n",
       "      <td>15.743602</td>\n",
       "      <td>15.874497</td>\n",
       "    </tr>\n",
       "    <tr>\n",
       "      <th>2022-01-04</th>\n",
       "      <td>412.739603</td>\n",
       "      <td>15.730698</td>\n",
       "      <td>16.037760</td>\n",
       "    </tr>\n",
       "    <tr>\n",
       "      <th>2022-01-05</th>\n",
       "      <td>412.804591</td>\n",
       "      <td>15.716009</td>\n",
       "      <td>15.893898</td>\n",
       "    </tr>\n",
       "    <tr>\n",
       "      <th>...</th>\n",
       "      <td>...</td>\n",
       "      <td>...</td>\n",
       "      <td>...</td>\n",
       "    </tr>\n",
       "    <tr>\n",
       "      <th>2022-10-01</th>\n",
       "      <td>432.370377</td>\n",
       "      <td>19.538049</td>\n",
       "      <td>18.091040</td>\n",
       "    </tr>\n",
       "    <tr>\n",
       "      <th>2022-10-02</th>\n",
       "      <td>432.370160</td>\n",
       "      <td>19.558802</td>\n",
       "      <td>18.067504</td>\n",
       "    </tr>\n",
       "    <tr>\n",
       "      <th>2022-10-03</th>\n",
       "      <td>432.350355</td>\n",
       "      <td>19.622705</td>\n",
       "      <td>17.737650</td>\n",
       "    </tr>\n",
       "    <tr>\n",
       "      <th>2022-10-04</th>\n",
       "      <td>432.370262</td>\n",
       "      <td>19.655904</td>\n",
       "      <td>17.642895</td>\n",
       "    </tr>\n",
       "    <tr>\n",
       "      <th>2022-10-05</th>\n",
       "      <td>432.369864</td>\n",
       "      <td>19.665055</td>\n",
       "      <td>17.758205</td>\n",
       "    </tr>\n",
       "  </tbody>\n",
       "</table>\n",
       "<p>278 rows × 3 columns</p>\n",
       "</div>"
      ],
      "text/plain": [
       "                   NGN        EGP        ZAR\n",
       "DATE                                        \n",
       "2022-01-01  411.950377  15.709763  15.951045\n",
       "2022-01-02  411.950333  15.705895  15.964896\n",
       "2022-01-03  412.739897  15.743602  15.874497\n",
       "2022-01-04  412.739603  15.730698  16.037760\n",
       "2022-01-05  412.804591  15.716009  15.893898\n",
       "...                ...        ...        ...\n",
       "2022-10-01  432.370377  19.538049  18.091040\n",
       "2022-10-02  432.370160  19.558802  18.067504\n",
       "2022-10-03  432.350355  19.622705  17.737650\n",
       "2022-10-04  432.370262  19.655904  17.642895\n",
       "2022-10-05  432.369864  19.665055  17.758205\n",
       "\n",
       "[278 rows x 3 columns]"
      ]
     },
     "execution_count": 138,
     "metadata": {},
     "output_type": "execute_result"
    }
   ],
   "source": [
    "wa_rates"
   ]
  },
  {
   "cell_type": "code",
   "execution_count": 139,
   "id": "49053481",
   "metadata": {},
   "outputs": [],
   "source": [
    "wa_rates['DATE'] = pd.to_datetime(wa_rates.index)"
   ]
  },
  {
   "cell_type": "code",
   "execution_count": 142,
   "id": "8d8933ed",
   "metadata": {},
   "outputs": [
    {
     "data": {
      "image/png": "[encoded data removed]",
      "text/plain": [
       "<Figure size 1080x288 with 3 Axes>"
      ]
     },
     "metadata": {
      "needs_background": "light"
     },
     "output_type": "display_data"
    }
   ],
   "source": [
    "fig = plt.figure(figsize=(15,4))\n",
    "a = 1\n",
    "for value in wa_rates.columns:\n",
    "    if value != 'DATE':\n",
    "        plt.subplot(1,3,a)\n",
    "        sns.lineplot(x = wa_rates['DATE'], y = wa_rates[value])\n",
    "        plt.tick_params(axis = 'x', labelrotation=45)\n",
    "        plt.grid(axis='y')\n",
    "        a+=1\n",
    "        plt.title(wa_currencies[value.lower()])\n",
    "plt.suptitle('Currency rate for the top 3 countries with higest GDP in Africa', fontsize=14)\n",
    "plt.show()"
   ]
  },
  {
   "cell_type": "code",
   "execution_count": 91,
   "id": "4f93914e",
   "metadata": {},
   "outputs": [],
   "source": [
    "month_list = []\n",
    "for value in df.DATE.dt.month_name():\n",
    "    month_list.append(value[:3])\n",
    "df['MONTH'] = month_list"
   ]
  },
  {
   "cell_type": "code",
   "execution_count": 115,
   "id": "ddb55790",
   "metadata": {},
   "outputs": [],
   "source": [
    "ngn_df = pd.DataFrame({'date':df['NGN'].index, 'rate':df['NGN'].values})"
   ]
  },
  {
   "cell_type": "code",
   "execution_count": 126,
   "id": "1bcd086f",
   "metadata": {},
   "outputs": [],
   "source": [
    "ngn_df['month'] = [str(a)[:3] for a in pd.to_datetime(ngn_df['date']).dt.month_name()]\n",
    "ngn_df['month_num'] = [a for a in pd.to_datetime(ngn_df['date']).dt.month]\n",
    "ngn_df.sort_values('month_num',inplace=True)"
   ]
  },
  {
   "cell_type": "code",
   "execution_count": 127,
   "id": "4407bdb6",
   "metadata": {},
   "outputs": [
    {
     "data": {
      "text/html": [
       "<div>\n",
       "<style scoped>\n",
       "    .dataframe tbody tr th:only-of-type {\n",
       "        vertical-align: middle;\n",
       "    }\n",
       "\n",
       "    .dataframe tbody tr th {\n",
       "        vertical-align: top;\n",
       "    }\n",
       "\n",
       "    .dataframe thead th {\n",
       "        text-align: right;\n",
       "    }\n",
       "</style>\n",
       "<table border=\"1\" class=\"dataframe\">\n",
       "  <thead>\n",
       "    <tr style=\"text-align: right;\">\n",
       "      <th></th>\n",
       "      <th>date</th>\n",
       "      <th>rate</th>\n",
       "      <th>month</th>\n",
       "      <th>month_num</th>\n",
       "    </tr>\n",
       "  </thead>\n",
       "  <tbody>\n",
       "    <tr>\n",
       "      <th>0</th>\n",
       "      <td>2022-01-01</td>\n",
       "      <td>411.950377</td>\n",
       "      <td>Jan</td>\n",
       "      <td>1</td>\n",
       "    </tr>\n",
       "    <tr>\n",
       "      <th>30</th>\n",
       "      <td>2022-01-31</td>\n",
       "      <td>415.829817</td>\n",
       "      <td>Jan</td>\n",
       "      <td>1</td>\n",
       "    </tr>\n",
       "    <tr>\n",
       "      <th>29</th>\n",
       "      <td>2022-01-30</td>\n",
       "      <td>415.659962</td>\n",
       "      <td>Jan</td>\n",
       "      <td>1</td>\n",
       "    </tr>\n",
       "    <tr>\n",
       "      <th>28</th>\n",
       "      <td>2022-01-29</td>\n",
       "      <td>415.660377</td>\n",
       "      <td>Jan</td>\n",
       "      <td>1</td>\n",
       "    </tr>\n",
       "    <tr>\n",
       "      <th>27</th>\n",
       "      <td>2022-01-28</td>\n",
       "      <td>415.660377</td>\n",
       "      <td>Jan</td>\n",
       "      <td>1</td>\n",
       "    </tr>\n",
       "    <tr>\n",
       "      <th>...</th>\n",
       "      <td>...</td>\n",
       "      <td>...</td>\n",
       "      <td>...</td>\n",
       "      <td>...</td>\n",
       "    </tr>\n",
       "    <tr>\n",
       "      <th>276</th>\n",
       "      <td>2022-10-04</td>\n",
       "      <td>432.370262</td>\n",
       "      <td>Oct</td>\n",
       "      <td>10</td>\n",
       "    </tr>\n",
       "    <tr>\n",
       "      <th>273</th>\n",
       "      <td>2022-10-01</td>\n",
       "      <td>432.370377</td>\n",
       "      <td>Oct</td>\n",
       "      <td>10</td>\n",
       "    </tr>\n",
       "    <tr>\n",
       "      <th>274</th>\n",
       "      <td>2022-10-02</td>\n",
       "      <td>432.370160</td>\n",
       "      <td>Oct</td>\n",
       "      <td>10</td>\n",
       "    </tr>\n",
       "    <tr>\n",
       "      <th>275</th>\n",
       "      <td>2022-10-03</td>\n",
       "      <td>432.350355</td>\n",
       "      <td>Oct</td>\n",
       "      <td>10</td>\n",
       "    </tr>\n",
       "    <tr>\n",
       "      <th>277</th>\n",
       "      <td>2022-10-05</td>\n",
       "      <td>432.369864</td>\n",
       "      <td>Oct</td>\n",
       "      <td>10</td>\n",
       "    </tr>\n",
       "  </tbody>\n",
       "</table>\n",
       "<p>278 rows × 4 columns</p>\n",
       "</div>"
      ],
      "text/plain": [
       "           date        rate month  month_num\n",
       "0    2022-01-01  411.950377   Jan          1\n",
       "30   2022-01-31  415.829817   Jan          1\n",
       "29   2022-01-30  415.659962   Jan          1\n",
       "28   2022-01-29  415.660377   Jan          1\n",
       "27   2022-01-28  415.660377   Jan          1\n",
       "..          ...         ...   ...        ...\n",
       "276  2022-10-04  432.370262   Oct         10\n",
       "273  2022-10-01  432.370377   Oct         10\n",
       "274  2022-10-02  432.370160   Oct         10\n",
       "275  2022-10-03  432.350355   Oct         10\n",
       "277  2022-10-05  432.369864   Oct         10\n",
       "\n",
       "[278 rows x 4 columns]"
      ]
     },
     "execution_count": 127,
     "metadata": {},
     "output_type": "execute_result"
    }
   ],
   "source": [
    "ngn_df"
   ]
  },
  {
   "cell_type": "code",
   "execution_count": 130,
   "id": "3f17f600",
   "metadata": {},
   "outputs": [
    {
     "name": "stderr",
     "output_type": "stream",
     "text": [
      "C:\\Users\\Enoch\\AppData\\Local\\Temp\\ipykernel_6380\\2044488377.py:1: FutureWarning: Indexing with multiple keys (implicitly converted to a tuple of keys) will be deprecated, use a list instead.\n",
      "  ngn_df2 = ngn_df.groupby(['month'])['rate','month_num'].mean()\n"
     ]
    }
   ],
   "source": [
    "ngn_df2 = ngn_df.groupby(['month'])['rate','month_num'].mean()"
   ]
  },
  {
   "cell_type": "code",
   "execution_count": 133,
   "id": "a308abed",
   "metadata": {},
   "outputs": [],
   "source": [
    "ngn_df2.sort_values('month_num',inplace=True)\n",
    "ngn_df2.drop('month_num', axis=1, inplace=True)"
   ]
  },
  {
   "cell_type": "code",
   "execution_count": 136,
   "id": "c1bc94da",
   "metadata": {},
   "outputs": [
    {
     "name": "stdout",
     "output_type": "stream",
     "text": [
      "Month over month analysis on average NGN rates \n"
     ]
    },
    {
     "data": {
      "text/html": [
       "<div>\n",
       "<style scoped>\n",
       "    .dataframe tbody tr th:only-of-type {\n",
       "        vertical-align: middle;\n",
       "    }\n",
       "\n",
       "    .dataframe tbody tr th {\n",
       "        vertical-align: top;\n",
       "    }\n",
       "\n",
       "    .dataframe thead th {\n",
       "        text-align: right;\n",
       "    }\n",
       "</style>\n",
       "<table border=\"1\" class=\"dataframe\">\n",
       "  <thead>\n",
       "    <tr style=\"text-align: right;\">\n",
       "      <th></th>\n",
       "      <th>rate</th>\n",
       "    </tr>\n",
       "    <tr>\n",
       "      <th>month</th>\n",
       "      <th></th>\n",
       "    </tr>\n",
       "  </thead>\n",
       "  <tbody>\n",
       "    <tr>\n",
       "      <th>Jan</th>\n",
       "      <td>NaN</td>\n",
       "    </tr>\n",
       "    <tr>\n",
       "      <th>Feb</th>\n",
       "      <td>414.220975</td>\n",
       "    </tr>\n",
       "    <tr>\n",
       "      <th>Mar</th>\n",
       "      <td>416.085016</td>\n",
       "    </tr>\n",
       "    <tr>\n",
       "      <th>Apr</th>\n",
       "      <td>416.123064</td>\n",
       "    </tr>\n",
       "    <tr>\n",
       "      <th>May</th>\n",
       "      <td>415.265581</td>\n",
       "    </tr>\n",
       "    <tr>\n",
       "      <th>Jun</th>\n",
       "      <td>415.144850</td>\n",
       "    </tr>\n",
       "    <tr>\n",
       "      <th>Jul</th>\n",
       "      <td>415.439536</td>\n",
       "    </tr>\n",
       "    <tr>\n",
       "      <th>Aug</th>\n",
       "      <td>415.335930</td>\n",
       "    </tr>\n",
       "    <tr>\n",
       "      <th>Sep</th>\n",
       "      <td>419.678804</td>\n",
       "    </tr>\n",
       "    <tr>\n",
       "      <th>Oct</th>\n",
       "      <td>428.555525</td>\n",
       "    </tr>\n",
       "  </tbody>\n",
       "</table>\n",
       "</div>"
      ],
      "text/plain": [
       "             rate\n",
       "month            \n",
       "Jan           NaN\n",
       "Feb    414.220975\n",
       "Mar    416.085016\n",
       "Apr    416.123064\n",
       "May    415.265581\n",
       "Jun    415.144850\n",
       "Jul    415.439536\n",
       "Aug    415.335930\n",
       "Sep    419.678804\n",
       "Oct    428.555525"
      ]
     },
     "execution_count": 136,
     "metadata": {},
     "output_type": "execute_result"
    }
   ],
   "source": [
    "print('Month over month analysis on average NGN rates ')\n",
    "ngn_df2.shift(1,axis=0)"
   ]
  },
  {
   "cell_type": "markdown",
   "id": "36b20070",
   "metadata": {},
   "source": [
    "# Conclusion"
   ]
  },
  {
   "cell_type": "markdown",
   "id": "79c9e648",
   "metadata": {},
   "source": [
    "From the analysis and visualization, i arrived at these conclusions:\n",
    "- NGN reach its highest in september but slightly decreases towards the end of september and started increasing back in october \n",
    "- Although there are a lot of rise and fall in EUR butwhenever there is a drop, the rate tend to increase more than it was before the drop and for now , the rate is dropping\n",
    "- VEF rates stays the same through out\n",
    "- 1 USD has never been more than 0.5KWD this year, this show that KWD is really a strong currency\n",
    "- Egypt experience extreme rise in rate in March and the rate hasn't drop back since then\n",
    "- There are rises and falls in south africa currency over time\n",
    "- NGN tend to increase as EUR increases until EUR reach over 1.0\n",
    "- There hasn't been high drop or rise in the average rates of ngn over the months\n",
    "<br></br>\n",
    "_[This the link to the api](https://apilayer.com/marketplace/exchangerates_data-ap)"
   ]
  },
  {
   "cell_type": "code",
   "execution_count": null,
   "id": "180d6d42",
   "metadata": {},
   "outputs": [],
   "source": []
  }
 ],
 "metadata": {
  "kernelspec": {
   "display_name": "Python 3 (ipykernel)",
   "language": "python",
   "name": "python3"
  },
  "language_info": {
   "codemirror_mode": {
    "name": "ipython",
    "version": 3
   },
   "file_extension": ".py",
   "mimetype": "text/x-python",
   "name": "python",
   "nbconvert_exporter": "python",
   "pygments_lexer": "ipython3",
   "version": "3.9.12"
  }
 },
 "nbformat": 4,
 "nbformat_minor": 5
}
